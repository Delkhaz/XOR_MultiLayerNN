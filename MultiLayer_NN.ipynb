{
  "nbformat": 4,
  "nbformat_minor": 0,
  "metadata": {
    "colab": {
      "name": "OpenLab2.ipynb",
      "version": "0.3.2",
      "provenance": []
    },
    "kernelspec": {
      "display_name": "Python 3",
      "language": "python",
      "name": "python3"
    }
  },
  "cells": [
    {
      "metadata": {
        "id": "9JpqofUehrj2",
        "colab_type": "text"
      },
      "cell_type": "markdown",
      "source": [
        "##   NN tools, Visualization, Printing and Plotting"
      ]
    },
    {
      "metadata": {
        "id": "4MEPH56Shrj3",
        "colab_type": "code",
        "colab": {},
        "outputId": "a7a5244b-1287-4f2b-d108-de0bd1c67a72"
      },
      "cell_type": "code",
      "source": [
        "import numpy as np\n",
        "import keras\n",
        "from IPython.display import SVG\n",
        "from IPython.display import display\n",
        "from keras.utils.vis_utils import model_to_dot\n",
        "from sympy import *\n",
        "init_printing(use_latex=True)\n",
        "import matplotlib.pyplot as plt\n",
        "%matplotlib inline"
      ],
      "execution_count": 0,
      "outputs": [
        {
          "output_type": "stream",
          "text": [
            "Using TensorFlow backend.\n"
          ],
          "name": "stderr"
        }
      ]
    },
    {
      "metadata": {
        "id": "mBqgrg4Ehrj7",
        "colab_type": "text"
      },
      "cell_type": "markdown",
      "source": [
        "# XOR Multi-layer net with Relu hidden layer"
      ]
    },
    {
      "metadata": {
        "id": "Wsh8yohmhrj8",
        "colab_type": "code",
        "colab": {},
        "outputId": "9ba9234d-a948-4fe4-c4f2-448d1e611273"
      },
      "cell_type": "code",
      "source": [
        "#XOR avoiding zero input pattern for stable learning behavior\n",
        "X = np.array([[-1,-1],[-1,1],[1,-1],[1,1]])\n",
        "#display(Matrix(X))\n",
        "Y = np.array([0,1,1,0])\n",
        "#display(Matrix(Y))\n",
        "\n",
        "#Multi-laye net with ReLU hidden layer\n",
        "model = keras.models.Sequential()\n",
        "model.add(keras.layers.Dense(2,input_dim=2,activation='relu',\n",
        "                            bias_initializer=keras.initializers.Constant(0.1)))\n",
        "\n",
        "model.add(keras.layers.Dense(30, activation='relu',\n",
        "                            bias_initializer=keras.initializers.Constant(0.1)))\n",
        "\n",
        "model.add(keras.layers.Dense(30, activation='relu',\n",
        "                            bias_initializer=keras.initializers.Constant(0.1)))\n",
        "\n",
        "\"\"\"\n",
        "model.add(keras.layers.Dense(8, activation='relu',\n",
        "                            bias_initializer=keras.initializers.Constant(0.1)))\n",
        "\n",
        "model.add(keras.layers.Dense(4, activation='relu',\n",
        "                            bias_initializer=keras.initializers.Constant(0.1)))\n",
        "\n",
        "model.add(keras.layers.Dense(2, activation='relu',\n",
        "                            bias_initializer=keras.initializers.Constant(0.1)))\n",
        "\n",
        "\"\"\"\n",
        "model.add(keras.layers.Dense(1,activation='sigmoid'))\n",
        "\n",
        "model.compile(loss='binary_crossentropy',optimizer='adam',metrics=['accuracy'])\n",
        "print(model.summary())\n",
        "\n",
        "#for i in model.get_weights():\n",
        "    #display(Matrix(i))"
      ],
      "execution_count": 0,
      "outputs": [
        {
          "output_type": "stream",
          "text": [
            "_________________________________________________________________\n",
            "Layer (type)                 Output Shape              Param #   \n",
            "=================================================================\n",
            "dense_1 (Dense)              (None, 2)                 6         \n",
            "_________________________________________________________________\n",
            "dense_2 (Dense)              (None, 30)                90        \n",
            "_________________________________________________________________\n",
            "dense_3 (Dense)              (None, 30)                930       \n",
            "_________________________________________________________________\n",
            "dense_4 (Dense)              (None, 1)                 31        \n",
            "=================================================================\n",
            "Total params: 1,057\n",
            "Trainable params: 1,057\n",
            "Non-trainable params: 0\n",
            "_________________________________________________________________\n",
            "None\n"
          ],
          "name": "stdout"
        }
      ]
    },
    {
      "metadata": {
        "id": "aIh98ipfhrkA",
        "colab_type": "text"
      },
      "cell_type": "markdown",
      "source": [
        "##  Prediction Visualization of Network Behavior"
      ]
    },
    {
      "metadata": {
        "id": "y5mKzzbphrkB",
        "colab_type": "code",
        "colab": {},
        "outputId": "48b91491-aa35-481f-ac0b-6ec35b698320"
      },
      "cell_type": "code",
      "source": [
        "xpoints = np.linspace(-2,2,20)\n",
        "ypoints = np.linspace(-2,2,20)\n",
        "xgrid, ygrid = np.meshgrid(xpoints,ypoints)\n",
        "positions = np.vstack([xgrid.ravel(),ygrid.ravel()]).T\n",
        "\n",
        "\n",
        "#color those points by the classification label\n",
        "predictions = model.predict_classes(positions)[:,0]\n",
        "zeros = positions[predictions==0,:]\n",
        "ones = positions[predictions==1,:]\n",
        "# Color predictions by class\n",
        "plt.plot(zeros[:,0],zeros[:,1],'ro')\n",
        "plt.plot(ones[:,0],ones[:,1],'bo')\n",
        "# Color the zero-expected outputs red\n",
        "plt.plot(X[[0,3],0],X[[0,3],1],'ro',markersize=10)\n",
        "# Color the one-expected outputs blue\n",
        "plt.plot(X[[1,2],0],X[[1,2],1],'bo',markersize=10)\n",
        "plt.title('Prediction Visuzalization')\n",
        "plt.show()"
      ],
      "execution_count": 0,
      "outputs": [
        {
          "output_type": "display_data",
          "data": {
            "image/png": "[encoded data removed]",
            "text/plain": [
              "<matplotlib.figure.Figure at 0x7f1756d16c88>"
            ]
          },
          "metadata": {
            "tags": []
          }
        }
      ]
    },
    {
      "metadata": {
        "id": "DcWaB9gahrkG",
        "colab_type": "code",
        "colab": {}
      },
      "cell_type": "code",
      "source": [
        ""
      ],
      "execution_count": 0,
      "outputs": []
    },
    {
      "metadata": {
        "id": "yZTWe1PwhrkH",
        "colab_type": "text"
      },
      "cell_type": "markdown",
      "source": [
        "#   Training model"
      ]
    },
    {
      "metadata": {
        "id": "9tQs7JaohrkI",
        "colab_type": "code",
        "colab": {}
      },
      "cell_type": "code",
      "source": [
        "#Training Parameters\n",
        "batch_size = 1\n",
        "epochs = 1300\n",
        "history = model.fit(X,Y,\n",
        "                   batch_size = batch_size,\n",
        "                   epochs = epochs,\n",
        "                   verbose = 0,)"
      ],
      "execution_count": 0,
      "outputs": []
    },
    {
      "metadata": {
        "id": "vFOZUW93hrkL",
        "colab_type": "text"
      },
      "cell_type": "markdown",
      "source": [
        "##  Model loss"
      ]
    },
    {
      "metadata": {
        "id": "xOwTfma-hrkM",
        "colab_type": "code",
        "colab": {},
        "outputId": "9ad8cc39-7e3c-4a71-cda6-32df5ec56c9f"
      },
      "cell_type": "code",
      "source": [
        "#summarize history for loss\n",
        "plt.plot(history.history['loss'])\n",
        "plt.title('model loss')\n",
        "plt.ylabel('loss')\n",
        "plt.xlabel('epoch')\n",
        "plt.legend(['train'], loc='upper left')\n",
        "plt.show()\n",
        "\n",
        "# Let's color those points by the classification labels...\n",
        "predictions = model.predict_classes(positions)[:,0]\n",
        "zeros = positions[predictions==0,:]\n",
        "ones = positions[predictions==1,:]\n",
        "# Color predictions by class\n",
        "plt.plot(zeros[:,0],zeros[:,1],'ro')\n",
        "plt.plot(ones[:,0],ones[:,1],'bo')\n",
        "# Color the zero-expected outputs red\n",
        "plt.plot(X[[0,3],0],X[[0,3],1],'ro',markersize=10)\n",
        "# Color the one-expected outputs blue\n",
        "plt.plot(X[[1,2],0],X[[1,2],1],'bo',markersize=10)\n",
        "plt.title('Visualize of Final Decision Boundary')\n",
        "plt.show()\n",
        "#SVG(model_to_dot(model).create(prog='dot', format='svg'))"
      ],
      "execution_count": 0,
      "outputs": [
        {
          "output_type": "display_data",
          "data": {
            "image/png": "[encoded data removed]",
            "text/plain": [
              "<matplotlib.figure.Figure at 0x7f1676d93d68>"
            ]
          },
          "metadata": {
            "tags": []
          }
        },
        {
          "output_type": "display_data",
          "data": {
            "image/png": "[encoded data removed]",
            "text/plain": [
              "<matplotlib.figure.Figure at 0x7f1676d2e278>"
            ]
          },
          "metadata": {
            "tags": []
          }
        }
      ]
    },
    {
      "metadata": {
        "id": "rAHoi1XchrkQ",
        "colab_type": "text"
      },
      "cell_type": "markdown",
      "source": [
        "# problem 1 Model Accuracy"
      ]
    },
    {
      "metadata": {
        "id": "S_lFVRDfhrkQ",
        "colab_type": "code",
        "colab": {},
        "outputId": "952c044a-8fa9-4b43-8f67-1024135e327b"
      },
      "cell_type": "code",
      "source": [
        "score = model.evaluate(X,Y, verbose=1)\n",
        "print('Test loss:', score[0])\n",
        "print('Test accuracy:', score[1])"
      ],
      "execution_count": 0,
      "outputs": [
        {
          "output_type": "stream",
          "text": [
            "4/4 [==============================] - 0s 706us/step\n",
            "Test loss: 8.5160798335e-05\n",
            "Test accuracy: 1.0\n"
          ],
          "name": "stdout"
        }
      ]
    },
    {
      "metadata": {
        "id": "jGjQ6lPLhrkX",
        "colab_type": "text"
      },
      "cell_type": "markdown",
      "source": [
        "# Shrinked down MultiLayer network XOR"
      ]
    },
    {
      "metadata": {
        "id": "dmbAeZXzhrkY",
        "colab_type": "code",
        "colab": {},
        "outputId": "bd3029d5-4529-4da4-b017-1531c31822ba"
      },
      "cell_type": "code",
      "source": [
        "#XOR avoiding zero input pattern for stable learning behavior\n",
        "X = np.array([[-1,-1],[-1,1],[1,-1],[1,1]])\n",
        "#display(Matrix(X))\n",
        "Y = np.array([0,1,1,0])\n",
        "#display(Matrix(Y))\n",
        "\n",
        "#Multi-laye net with ReLU hidden layer\n",
        "model = keras.models.Sequential()\n",
        "model.add(keras.layers.Dense(2,input_dim=2,activation='relu',\n",
        "                            bias_initializer=keras.initializers.Constant(0.1)))\n",
        "\n",
        "model.add(keras.layers.Dense(12, activation='relu',\n",
        "                            bias_initializer=keras.initializers.Constant(0.1)))\n",
        "\n",
        "model.add(keras.layers.Dense(1,activation='sigmoid'))\n",
        "\n",
        "model.compile(loss='binary_crossentropy',optimizer='adam',metrics=['accuracy'])\n",
        "print(model.summary())\n",
        "\n",
        "xpoints = np.linspace(-2,2,20)\n",
        "ypoints = np.linspace(-2,2,20)\n",
        "xgrid, ygrid = np.meshgrid(xpoints,ypoints)\n",
        "positions = np.vstack([xgrid.ravel(),ygrid.ravel()]).T\n",
        "\n",
        "####PREDICTION#####\n",
        "#color those points by the classification label\n",
        "predictions = model.predict_classes(positions)[:,0]\n",
        "zeros = positions[predictions==0,:]\n",
        "ones = positions[predictions==1,:]\n",
        "# Color predictions by class\n",
        "plt.plot(zeros[:,0],zeros[:,1],'ro')\n",
        "plt.plot(ones[:,0],ones[:,1],'bo')\n",
        "# Color the zero-expected outputs red\n",
        "plt.plot(X[[0,3],0],X[[0,3],1],'ro',markersize=10)\n",
        "# Color the one-expected outputs blue\n",
        "plt.plot(X[[1,2],0],X[[1,2],1],'bo',markersize=10)\n",
        "plt.title('Prediction Visuzalization')\n",
        "plt.show()\n"
      ],
      "execution_count": 0,
      "outputs": [
        {
          "output_type": "stream",
          "text": [
            "_________________________________________________________________\n",
            "Layer (type)                 Output Shape              Param #   \n",
            "=================================================================\n",
            "dense_5 (Dense)              (None, 2)                 6         \n",
            "_________________________________________________________________\n",
            "dense_6 (Dense)              (None, 12)                36        \n",
            "_________________________________________________________________\n",
            "dense_7 (Dense)              (None, 1)                 13        \n",
            "=================================================================\n",
            "Total params: 55\n",
            "Trainable params: 55\n",
            "Non-trainable params: 0\n",
            "_________________________________________________________________\n",
            "None\n"
          ],
          "name": "stdout"
        },
        {
          "output_type": "display_data",
          "data": {
            "image/png": "[encoded data removed]",
            "text/plain": [
              "<matplotlib.figure.Figure at 0x7f1676b86470>"
            ]
          },
          "metadata": {
            "tags": []
          }
        }
      ]
    },
    {
      "metadata": {
        "id": "kDwIRXJIhrkb",
        "colab_type": "text"
      },
      "cell_type": "markdown",
      "source": [
        "#   Training and Model loss"
      ]
    },
    {
      "metadata": {
        "id": "lK0rnxMqhrkb",
        "colab_type": "code",
        "colab": {}
      },
      "cell_type": "code",
      "source": [
        "#Training Parameters\n",
        "batch_size = 1\n",
        "epochs = 1300\n",
        "history = model.fit(X,Y,\n",
        "                   batch_size = batch_size,\n",
        "                   epochs = epochs,\n",
        "                   verbose = 0,)"
      ],
      "execution_count": 0,
      "outputs": []
    },
    {
      "metadata": {
        "id": "HS_lXU2bhrke",
        "colab_type": "code",
        "colab": {},
        "outputId": "7ccb40a4-cf70-4309-8923-11ae9669417c"
      },
      "cell_type": "code",
      "source": [
        "#summarize history for loss\n",
        "plt.plot(history.history['loss'])\n",
        "plt.title('model loss')\n",
        "plt.ylabel('loss')\n",
        "plt.xlabel('epoch')\n",
        "plt.legend(['train'], loc='upper left')\n",
        "plt.show()\n",
        "\n",
        "# Let's color those points by the classification labels...\n",
        "predictions = model.predict_classes(positions)[:,0]\n",
        "zeros = positions[predictions==0,:]\n",
        "ones = positions[predictions==1,:]\n",
        "# Color predictions by class\n",
        "plt.plot(zeros[:,0],zeros[:,1],'ro')\n",
        "plt.plot(ones[:,0],ones[:,1],'bo')\n",
        "# Color the zero-expected outputs red\n",
        "plt.plot(X[[0,3],0],X[[0,3],1],'ro',markersize=10)\n",
        "# Color the one-expected outputs blue\n",
        "plt.plot(X[[1,2],0],X[[1,2],1],'bo',markersize=10)\n",
        "plt.title('Visualize of Final Decision Boundary')\n",
        "plt.show()\n",
        "\n",
        "score = model.evaluate(X,Y, verbose=1)\n",
        "print('Test loss:', score[0])\n",
        "print('Test accuracy:', score[1])"
      ],
      "execution_count": 0,
      "outputs": [
        {
          "output_type": "display_data",
          "data": {
            "image/png": "[encoded data removed]",
            "text/plain": [
              "<matplotlib.figure.Figure at 0x7f1676c07240>"
            ]
          },
          "metadata": {
            "tags": []
          }
        },
        {
          "output_type": "display_data",
          "data": {
            "image/png": "[encoded data removed]",
            "text/plain": [
              "<matplotlib.figure.Figure at 0x7f1676c96240>"
            ]
          },
          "metadata": {
            "tags": []
          }
        },
        {
          "output_type": "stream",
          "text": [
            "4/4 [==============================] - 0s 13ms/step\n",
            "Test loss: 0.00393701065332\n",
            "Test accuracy: 1.0\n"
          ],
          "name": "stdout"
        }
      ]
    },
    {
      "metadata": {
        "id": "FxLMkVEKhrkh",
        "colab_type": "text"
      },
      "cell_type": "markdown",
      "source": [
        "#    .3 Model Accuracy"
      ]
    },
    {
      "metadata": {
        "id": "SaFe9O_xhrkl",
        "colab_type": "code",
        "colab": {},
        "outputId": "0ae952b0-c04d-42fe-ce6a-027ff5224199"
      },
      "cell_type": "code",
      "source": [
        "score = model.evaluate(X,Y, verbose=1)\n",
        "print('Test loss:', score[0])\n",
        "print('Test accuracy:', score[1])"
      ],
      "execution_count": 0,
      "outputs": [
        {
          "output_type": "stream",
          "text": [
            "4/4 [==============================] - 0s 2ms/step\n",
            "Test loss: 0.00393701065332\n",
            "Test accuracy: 1.0\n"
          ],
          "name": "stdout"
        }
      ]
    },
    {
      "metadata": {
        "id": "mq_FS1zjhrks",
        "colab_type": "text"
      },
      "cell_type": "markdown",
      "source": [
        "#   4)."
      ]
    },
    {
      "metadata": {
        "id": "7zl9wbWohrks",
        "colab_type": "text"
      },
      "cell_type": "markdown",
      "source": [
        "Relu provides us with the ability have a nonlinear function that doesnt saturate - the d/dx is always just 1 for x > 0, so it acts as an identity function if we were doing backprop. Our gradients wont vanish away, also the the initializing of the bias. ReLU make our network alittle larger becuase we can use the advantage of having more more sparse representation. Therefore makes out network much larger in size, since our gradients are not vanishing , can still search in ourspace. "
      ]
    },
    {
      "metadata": {
        "id": "X5wGvfUMhrku",
        "colab_type": "text"
      },
      "cell_type": "markdown",
      "source": [
        "#   5)."
      ]
    },
    {
      "metadata": {
        "id": "25W2KstThrkv",
        "colab_type": "text"
      },
      "cell_type": "markdown",
      "source": [
        "#   Classifying MNIST"
      ]
    },
    {
      "metadata": {
        "id": "mP5I5li2hrkv",
        "colab_type": "code",
        "colab": {},
        "outputId": "e4675ed3-f25c-43cd-9769-e9130b0ead21"
      },
      "cell_type": "code",
      "source": [
        "from keras.datasets import mnist\n",
        "\n",
        "# 0 - 9 = 10 classes\n",
        "num_classes = 10\n",
        "\n",
        "#input img dimensions\n",
        "img_rows, img_cols = 28, 28\n",
        "\n",
        "#data, shuffled and split between train and test sets\n",
        "(x_train, y_train), (x_test, y_test) = mnist.load_data()\n",
        "\n",
        "x_train = x_train.reshape(x_train.shape[0], img_rows * img_cols)\n",
        "x_test = x_test.reshape(x_test.shape[0], img_rows * img_cols)\n",
        "\n",
        "#data normalization (0-255 is encoded as 0-1 )\n",
        "x_train = x_train.astype('float32')\n",
        "x_test = x_test.astype('float32')\n",
        "x_train /= 255.0\n",
        "x_test /= 255.0\n",
        "\n",
        "#convert class vector to binary class matrix\n",
        "y_train = keras.utils.to_categorical(y_train, num_classes)\n",
        "y_test = keras.utils.to_categorical(y_test, num_classes)\n",
        "\n",
        "#shape infor\n",
        "print('x_train shape:', x_train.shape)\n",
        "print('y_train shape:', y_train.shape)\n",
        "print(x_train.shape[0], 'train samples')\n",
        "print(x_test.shape[0], 'test samples')"
      ],
      "execution_count": 0,
      "outputs": [
        {
          "output_type": "stream",
          "text": [
            "x_train shape: (60000, 784)\n",
            "y_train shape: (60000, 10)\n",
            "60000 train samples\n",
            "10000 test samples\n"
          ],
          "name": "stdout"
        }
      ]
    },
    {
      "metadata": {
        "id": "GEhQ7nM4hrky",
        "colab_type": "text"
      },
      "cell_type": "markdown",
      "source": [
        "#   Building Multi-later network using Hyberbolic tangent"
      ]
    },
    {
      "metadata": {
        "id": "6NHqZQjPhrky",
        "colab_type": "code",
        "colab": {},
        "outputId": "2eec2eb8-2cf7-474e-dcbd-bb4146318066"
      },
      "cell_type": "code",
      "source": [
        "\"\"\" #feed forward network\n",
        "model = keras.models.Sequential()\n",
        "\n",
        "#linear\n",
        "model.add(keras.layers.Dense(400, activation='softmax',input_shape=[x_train.shape[1]]))\n",
        "#hidden layers\n",
        "model.add(keras.layers.Dense(400, activation='tanh'))\n",
        "#model.add(keras.layers.Dense(100, activation='tanh'))\n",
        "#model.add(keras.layers.Dense(80, activation='tanh'))\n",
        "#model.add(keras.layers.Dense(40, activation='tanh'))\n",
        "#model.add(keras.layers.Dense(80, activation='tanh'))\n",
        "#model.add(keras.layers.Dense(100, activation='tanh'))\n",
        "model.add(keras.layers.Dense(300, activation='tanh'))\n",
        "model.add(keras.layers.Dense(170, activation='tanh'))\n",
        "model.add(keras.layers.Dense(170, activation='tanh'))\n",
        "model.add(keras.layers.Dense(250, activation='tanh'))\n",
        "\n",
        "#output layer\n",
        "model.add(keras.layers.Dense(10, activation='softmax'))\n",
        "\n",
        "\n",
        "model.compile(loss=keras.losses.categorical_crossentropy,\n",
        "             optimizer=keras.optimizers.Adam(),\n",
        "             metrics=['accuracy'])\n",
        "model.summary()\n",
        "\"\"\"\n",
        "#much better model than above and gets 98% \n",
        "model = keras.models.Sequential()\n",
        "model.add(keras.layers.Dense(300, activation='tanh', input_shape=[x_train.shape[1]]))\n",
        "model.add(keras.layers.Dense(210,activation = 'tanh'))\n",
        "model.add(keras.layers.Dense(num_classes, activation='softmax'))\n",
        "model.summary()\n",
        "\n",
        "#RMSprop() seems to be better than Adam() in this net.\n",
        "model.compile(loss=keras.losses.categorical_crossentropy,\n",
        "              optimizer=keras.optimizers.RMSprop(),\n",
        "              metrics=['accuracy'])"
      ],
      "execution_count": 0,
      "outputs": [
        {
          "output_type": "stream",
          "text": [
            "_________________________________________________________________\n",
            "Layer (type)                 Output Shape              Param #   \n",
            "=================================================================\n",
            "dense_1 (Dense)              (None, 300)               235500    \n",
            "_________________________________________________________________\n",
            "dense_2 (Dense)              (None, 210)               63210     \n",
            "_________________________________________________________________\n",
            "dense_3 (Dense)              (None, 10)                2110      \n",
            "=================================================================\n",
            "Total params: 300,820\n",
            "Trainable params: 300,820\n",
            "Non-trainable params: 0\n",
            "_________________________________________________________________\n"
          ],
          "name": "stdout"
        }
      ]
    },
    {
      "metadata": {
        "id": "ExsdqJa0hrk0",
        "colab_type": "code",
        "colab": {}
      },
      "cell_type": "code",
      "source": [
        ""
      ],
      "execution_count": 0,
      "outputs": []
    },
    {
      "metadata": {
        "id": "Xs73sTqmhrk2",
        "colab_type": "text"
      },
      "cell_type": "markdown",
      "source": [
        "#   Training"
      ]
    },
    {
      "metadata": {
        "id": "VQT6WeJyhrk3",
        "colab_type": "code",
        "colab": {},
        "outputId": "d5f8aa20-c175-4b32-f4c8-bdb91f623a8c"
      },
      "cell_type": "code",
      "source": [
        "batch_size = 128\n",
        "epochs = 30\n",
        "history = model.fit(x_train, y_train,\n",
        "                   batch_size=batch_size,\n",
        "                   epochs=epochs,\n",
        "                   verbose=0,\n",
        "                   validation_split=0.2)\n",
        "score = model.evaluate(x_test, y_test, verbose=1)\n",
        "print('Test loss:',score[0])\n",
        "print('Test accuracy:',score[1])"
      ],
      "execution_count": 0,
      "outputs": [
        {
          "output_type": "stream",
          "text": [
            "10000/10000 [==============================] - 1s 104us/step\n",
            "Test loss: 0.117225008111\n",
            "Test accuracy: 0.9806\n"
          ],
          "name": "stdout"
        }
      ]
    },
    {
      "metadata": {
        "id": "ktPC3bq5hrk8",
        "colab_type": "code",
        "colab": {}
      },
      "cell_type": "code",
      "source": [
        ""
      ],
      "execution_count": 0,
      "outputs": []
    },
    {
      "metadata": {
        "id": "icr-pymShrlB",
        "colab_type": "text"
      },
      "cell_type": "markdown",
      "source": [
        "#   plotting Model Accuracy and Model loss"
      ]
    },
    {
      "metadata": {
        "id": "jXlfTfnThrlB",
        "colab_type": "code",
        "colab": {},
        "outputId": "873d2f35-23d3-4fe3-b098-9ed09b5f779c"
      },
      "cell_type": "code",
      "source": [
        "plt.figure(1)\n",
        "# summarize history for accuracy\n",
        "plt.subplot(211)\n",
        "plt.plot(history.history['acc'])\n",
        "plt.plot(history.history['val_acc'])\n",
        "plt.title('model accuracy')\n",
        "plt.ylabel('accuracy')\n",
        "plt.xlabel('epoch')\n",
        "plt.legend(['train', 'test'], loc='upper left')\n",
        "\n",
        "# summarize history for loss\n",
        "\n",
        "plt.subplot(212)\n",
        "plt.plot(history.history['loss'])\n",
        "plt.plot(history.history['val_loss'])\n",
        "plt.title('model loss')\n",
        "plt.ylabel('loss')\n",
        "plt.xlabel('epoch')\n",
        "plt.legend(['train', 'test'], loc='upper left')\n",
        "plt.tight_layout()\n",
        "plt.show()"
      ],
      "execution_count": 0,
      "outputs": [
        {
          "output_type": "display_data",
          "data": {
            "image/png": "[encoded data removed]",
            "text/plain": [
              "<matplotlib.figure.Figure at 0x7f72cae75d68>"
            ]
          },
          "metadata": {
            "tags": []
          }
        }
      ]
    },
    {
      "metadata": {
        "id": "tTzHUrMihrlE",
        "colab_type": "code",
        "colab": {},
        "outputId": "26f83908-9c1f-40cf-b0dd-c52b031f0198"
      },
      "cell_type": "code",
      "source": [
        "score = model.evaluate(x_test, y_test, verbose=1)\n",
        "print('Test loss:',score[0])\n",
        "print('Test accuracy:',score[1])"
      ],
      "execution_count": 0,
      "outputs": [
        {
          "output_type": "stream",
          "text": [
            "10000/10000 [==============================] - 1s 102us/step\n",
            "Test loss: 0.117225008111\n",
            "Test accuracy: 0.9806\n"
          ],
          "name": "stdout"
        }
      ]
    },
    {
      "metadata": {
        "id": "xi0Uqjk8hrlH",
        "colab_type": "code",
        "colab": {}
      },
      "cell_type": "code",
      "source": [
        "#SVG(model_to_dot(model).create(prog='dot', format='svg'))"
      ],
      "execution_count": 0,
      "outputs": []
    },
    {
      "metadata": {
        "id": "EpyMKLcthrlK",
        "colab_type": "code",
        "colab": {}
      },
      "cell_type": "code",
      "source": [
        ""
      ],
      "execution_count": 0,
      "outputs": []
    },
    {
      "metadata": {
        "id": "s3R9BevThrlP",
        "colab_type": "text"
      },
      "cell_type": "markdown",
      "source": [
        "#   Building Multi-layer Network with ReLU units MNIST"
      ]
    },
    {
      "metadata": {
        "id": "1V9tEobihrlQ",
        "colab_type": "code",
        "colab": {},
        "outputId": "7533fb4b-e3ac-4781-f955-11d86d073fd8"
      },
      "cell_type": "code",
      "source": [
        "\"\"\" relu_model = keras.models.Sequential()\n",
        "\n",
        "#linear\n",
        "relu_model.add(keras.layers.Dense(400, activation='softmax',input_shape=[x_train.shape[1]]))\n",
        "#hidden layers\n",
        "relu_model.add(keras.layers.Dense(350, activation='relu'))\n",
        "#model.add(keras.layers.Dense(100, activation='tanh'))\n",
        "#model.add(keras.layers.Dense(80, activation='tanh'))\n",
        "#model.add(keras.layers.Dense(40, activation='tanh'))\n",
        "#model.add(keras.layers.Dense(80, activation='tanh'))\n",
        "#model.add(keras.layers.Dense(100, activation='tanh'))\n",
        "relu_model.add(keras.layers.Dense(250, activation='relu'))\n",
        "relu_model.add(keras.layers.Dense(250, activation='relu'))\n",
        "relu_model.add(keras.layers.Dense(150, activation='relu'))\n",
        "relu_model.add(keras.layers.Dense(250, activation='relu'))\n",
        "\n",
        "#output layer\n",
        "relu_model.add(keras.layers.Dense(10, activation='softmax'))\n",
        "\n",
        "\n",
        "relu_model.compile(loss=keras.losses.categorical_crossentropy,\n",
        "             optimizer=keras.optimizers.Adam(),\n",
        "             metrics=['accuracy'])\n",
        "relu_model.summary()\n",
        "\"\"\"\n",
        "\n",
        "relu_model = keras.models.Sequential()\n",
        "relu_model.add(keras.layers.Dense(300, activation='relu', input_shape=[x_train.shape[1]]))\n",
        "relu_model.add(keras.layers.Dense(210,activation='relu'))\n",
        "relu_model.add(keras.layers.Dense(num_classes, activation='softmax'))\n",
        "relu_model.summary()\n",
        "\n",
        "#RMSprop() seems to be better than Adam() in this net.\n",
        "relu_model.compile(loss=keras.losses.categorical_crossentropy,\n",
        "              optimizer=keras.optimizers.Adam(),\n",
        "              metrics=['accuracy'])\n"
      ],
      "execution_count": 0,
      "outputs": [
        {
          "output_type": "stream",
          "text": [
            "_________________________________________________________________\n",
            "Layer (type)                 Output Shape              Param #   \n",
            "=================================================================\n",
            "dense_1 (Dense)              (None, 300)               235500    \n",
            "_________________________________________________________________\n",
            "dense_2 (Dense)              (None, 210)               63210     \n",
            "_________________________________________________________________\n",
            "dense_3 (Dense)              (None, 10)                2110      \n",
            "=================================================================\n",
            "Total params: 300,820\n",
            "Trainable params: 300,820\n",
            "Non-trainable params: 0\n",
            "_________________________________________________________________\n"
          ],
          "name": "stdout"
        }
      ]
    },
    {
      "metadata": {
        "id": "RKXmqd4QhrlR",
        "colab_type": "code",
        "colab": {}
      },
      "cell_type": "code",
      "source": [
        ""
      ],
      "execution_count": 0,
      "outputs": []
    },
    {
      "metadata": {
        "id": "XjJF0PKRhrlT",
        "colab_type": "text"
      },
      "cell_type": "markdown",
      "source": [
        "#   Training"
      ]
    },
    {
      "metadata": {
        "id": "kkZvwsZUhrlU",
        "colab_type": "code",
        "colab": {},
        "outputId": "0d5edf4e-e7a9-4300-b8f1-8c52b02c1f7b"
      },
      "cell_type": "code",
      "source": [
        "batch_size=128\n",
        "epochs=30\n",
        "history = relu_model.fit(x_train, y_train,\n",
        "                   batch_size=batch_size,\n",
        "                   epochs=epochs,\n",
        "                   verbose=0,\n",
        "                   validation_split=0.2)\n",
        "score = relu_model.evaluate(x_test, y_test, verbose=1)\n",
        "print('Test loss:',score[0])\n",
        "print('Test accuracy:',score[1])"
      ],
      "execution_count": 0,
      "outputs": [
        {
          "output_type": "stream",
          "text": [
            "10000/10000 [==============================] - 1s 102us/step\n",
            "Test loss: 0.108127264471\n",
            "Test accuracy: 0.9816\n"
          ],
          "name": "stdout"
        }
      ]
    },
    {
      "metadata": {
        "id": "ainWlePZhrlV",
        "colab_type": "text"
      },
      "cell_type": "markdown",
      "source": [
        "#   Plotting Model loss and Accuracy "
      ]
    },
    {
      "metadata": {
        "id": "QYFAnDqMhrlW",
        "colab_type": "code",
        "colab": {},
        "outputId": "6c81f3e2-6db0-4c1f-b046-8f177bddfa0e"
      },
      "cell_type": "code",
      "source": [
        "plt.figure(1)\n",
        "# summarize history for accuracy\n",
        "plt.subplot(211)\n",
        "plt.plot(history.history['acc'])\n",
        "plt.plot(history.history['val_acc'])\n",
        "plt.title('model accuracy')\n",
        "plt.ylabel('accuracy')\n",
        "plt.xlabel('epoch')\n",
        "plt.legend(['train', 'test'], loc='upper left')\n",
        "\n",
        "# summarize history for loss\n",
        "\n",
        "plt.subplot(212)\n",
        "plt.plot(history.history['loss'])\n",
        "plt.plot(history.history['val_loss'])\n",
        "plt.title('model loss')\n",
        "plt.ylabel('loss')\n",
        "plt.xlabel('epoch')\n",
        "plt.legend(['train', 'test'], loc='upper left')\n",
        "plt.tight_layout()\n",
        "plt.show()"
      ],
      "execution_count": 0,
      "outputs": [
        {
          "output_type": "display_data",
          "data": {
            "image/png": "[encoded data removed]",
            "text/plain": [
              "<matplotlib.figure.Figure at 0x7fce881a3ef0>"
            ]
          },
          "metadata": {
            "tags": []
          }
        }
      ]
    },
    {
      "metadata": {
        "id": "oufX53FGhrlY",
        "colab_type": "code",
        "colab": {},
        "outputId": "0a4868fc-34d6-4b8a-a032-3c47257eabaf"
      },
      "cell_type": "code",
      "source": [
        "relu_score = relu_model.evaluate(x_test, y_test, verbose=1)\n",
        "print('Test loss:',relu_score[0])\n",
        "print('Test accuracy:',relu_score[1])"
      ],
      "execution_count": 0,
      "outputs": [
        {
          "output_type": "stream",
          "text": [
            "10000/10000 [==============================] - 1s 98us/step\n",
            "Test loss: 0.108127264471\n",
            "Test accuracy: 0.9816\n"
          ],
          "name": "stdout"
        }
      ]
    },
    {
      "metadata": {
        "id": "EfGrymTXhrlZ",
        "colab_type": "code",
        "colab": {}
      },
      "cell_type": "code",
      "source": [
        ""
      ],
      "execution_count": 0,
      "outputs": []
    },
    {
      "metadata": {
        "id": "jSElvUSdhrlb",
        "colab_type": "text"
      },
      "cell_type": "markdown",
      "source": [
        "#   7)."
      ]
    },
    {
      "metadata": {
        "id": "G_9fng6Chrlb",
        "colab_type": "text"
      },
      "cell_type": "markdown",
      "source": [
        "With the way my network is setup currently , wide/deep neural network, i did not notice much differences from numbers 5 and 6. when the network was much simpler, having only one hidden layer i did notice that ReLU resulted in higher Accuracy than the tanh function. Comparing number 4 and 5, i belive using relu gives us some sort of sparsity, when a <= 0, the more units in a layer the more sparse the resulting representation is. Tanh is always likely to generate some no zero value resulting in dense representations. sparse reps seems to be more benefical than dense reps.Although relu does sort of blow up on activation, nothing to constrain the ouput of the neuron. "
      ]
    },
    {
      "metadata": {
        "id": "DKCO-9Clhrlc",
        "colab_type": "text"
      },
      "cell_type": "markdown",
      "source": [
        ""
      ]
    }
  ]
}